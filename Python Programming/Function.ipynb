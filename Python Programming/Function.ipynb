{
 "cells": [
  {
   "cell_type": "markdown",
   "id": "811608ba",
   "metadata": {},
   "source": [
    "Write a Python function that accepts a string and calculates the number of upper case letters and lower case letters."
   ]
  },
  {
   "cell_type": "code",
   "execution_count": 2,
   "id": "4e9a8fd0",
   "metadata": {},
   "outputs": [
    {
     "name": "stdout",
     "output_type": "stream",
     "text": [
      "Original String :  Hello Mr. Rogers, how are you this fine Tuesday?\n",
      "No. of Upper case characters : 4\n",
      "No. of Lower case characters : 33\n"
     ]
    }
   ],
   "source": [
    "def up_low(s):\n",
    "    print('Original String :  '+ s)\n",
    "    #lst=s.split()\n",
    "    #print(lst)\n",
    "    ucount=0\n",
    "    lcount=0\n",
    "    for item in s:\n",
    "        if item.isupper():\n",
    "            ucount+=1\n",
    "        elif item.islower():\n",
    "            lcount +=1\n",
    "    print ('No. of Upper case characters : ' + str(ucount))\n",
    "    print ('No. of Lower case characters : ' + str(lcount))\n",
    "        \n",
    "        \n",
    "s = 'Hello Mr. Rogers, how are you this fine Tuesday?'\n",
    "up_low(s)"
   ]
  },
  {
   "cell_type": "markdown",
   "id": "f4630196",
   "metadata": {},
   "source": [
    "Write a Python function that takes a list and returns a new list with unique elements of the first list."
   ]
  },
  {
   "cell_type": "code",
   "execution_count": 1,
   "id": "003f178d",
   "metadata": {},
   "outputs": [
    {
     "data": {
      "text/plain": [
       "[1, 2, 3, 4, 5]"
      ]
     },
     "execution_count": 1,
     "metadata": {},
     "output_type": "execute_result"
    }
   ],
   "source": [
    "def unique_list(lst):\n",
    "    #lst=list(set(lst))\n",
    "    b=[]\n",
    "    for a in lst:\n",
    "         if a not in b:\n",
    "            b.append(a)\n",
    "    return b\n",
    "\n",
    "unique_list([1,1,1,1,2,2,3,3,3,3,4,5])"
   ]
  },
  {
   "cell_type": "markdown",
   "id": "0ae42b78",
   "metadata": {},
   "source": [
    "Write a Python function that checks whether a word or phrase is palindrome or not."
   ]
  },
  {
   "cell_type": "code",
   "execution_count": 3,
   "id": "fea93fd7",
   "metadata": {},
   "outputs": [
    {
     "data": {
      "text/plain": [
       "True"
      ]
     },
     "execution_count": 3,
     "metadata": {},
     "output_type": "execute_result"
    }
   ],
   "source": [
    "def palindrome(s):\n",
    "    s=s.replace(' ','')\n",
    "    return s == (s[::-1])\n",
    "\n",
    "palindrome('madam')"
   ]
  },
  {
   "cell_type": "markdown",
   "id": "4b0f959b",
   "metadata": {},
   "source": [
    "Write a Python function to check whether a string is pangram or not.\n",
    "(Assume the string passed in does not have any punctuation)\n",
    "\n",
    "    Note : Pangrams are words or sentences containing every letter of the alphabet at least once.\n",
    "    For example : \"The quick brown fox jumps over the lazy dog\""
   ]
  },
  {
   "cell_type": "code",
   "execution_count": 4,
   "id": "b3f3f261",
   "metadata": {},
   "outputs": [
    {
     "name": "stdout",
     "output_type": "stream",
     "text": [
      "{'z', 'a', 'j', 'w', 'b', 'y', 'i', 'e', 'o', 'c', 't', 'f', 'r', 'n', 'u', 'k', 'm', 'x', 's', 'v', 'g', 'h', 'p', 'q', 'l', 'd'}\n",
      "{'z', 'a', 'j', 'w', 'b', 'y', 'i', 'e', 'o', 'c', 't', 'f', 'r', 'n', 'u', 'k', 'm', 'x', 's', 'v', 'g', 'h', 'p', 'q', 'l', 'd'}\n"
     ]
    },
    {
     "data": {
      "text/plain": [
       "True"
      ]
     },
     "execution_count": 4,
     "metadata": {},
     "output_type": "execute_result"
    }
   ],
   "source": [
    "import string\n",
    "\n",
    "def ispangram(str1, alphabet=string.ascii_lowercase):\n",
    "    str1= str1.replace(' ','')\n",
    "    str1= set(str1.lower())\n",
    "    print(str1)\n",
    "    a=set(alphabet)\n",
    "    print (a)\n",
    "    return str1 == a\n",
    "\n",
    "ispangram(\"The quick brown fox jumps over the lazy dog\")"
   ]
  },
  {
   "cell_type": "markdown",
   "id": "7d90cabb",
   "metadata": {},
   "source": [
    "Given a sentence, return a sentence with the words reversed\n",
    "\n",
    "    master_yoda('I am home') --> 'home am I'\n",
    "    master_yoda('We are ready') --> 'ready are We'"
   ]
  },
  {
   "cell_type": "code",
   "execution_count": 5,
   "id": "7e879c92",
   "metadata": {},
   "outputs": [
    {
     "name": "stdout",
     "output_type": "stream",
     "text": [
      "home am I\n"
     ]
    }
   ],
   "source": [
    "def master_yoda(text):\n",
    "    mylist=text.split()\n",
    "    #num_of_words=len(mylist)\n",
    "    mylist.reverse()\n",
    "    output=\" \".join(mylist)\n",
    "    print (output)\n",
    "    \n",
    "master_yoda('I am home')"
   ]
  },
  {
   "cell_type": "markdown",
   "id": "024f42f7",
   "metadata": {},
   "source": [
    "ALMOST THERE: Given an integer n, return True if n is within 10 of either 100 or 200"
   ]
  },
  {
   "cell_type": "code",
   "execution_count": 6,
   "id": "80514b53",
   "metadata": {},
   "outputs": [
    {
     "data": {
      "text/plain": [
       "True"
      ]
     },
     "execution_count": 6,
     "metadata": {},
     "output_type": "execute_result"
    }
   ],
   "source": [
    "def almost_there(n):\n",
    "    return ((abs(100 - n) <= 10) or (abs(200 - n) <= 10))\n",
    "\n",
    "almost_there(90)"
   ]
  },
  {
   "cell_type": "markdown",
   "id": "d4c9f74b",
   "metadata": {},
   "source": [
    "Given a list of ints, return True if the array contains a 3 next to a 3 somewhere.\n",
    "\n",
    "    has_33([1, 3, 3]) → True\n",
    "    has_33([1, 3, 1, 3]) → False\n",
    "    has_33([3, 1, 3]) → False"
   ]
  },
  {
   "cell_type": "code",
   "execution_count": 7,
   "id": "2c38a66a",
   "metadata": {},
   "outputs": [
    {
     "data": {
      "text/plain": [
       "True"
      ]
     },
     "execution_count": 7,
     "metadata": {},
     "output_type": "execute_result"
    }
   ],
   "source": [
    "def has_33(nums):\n",
    "    for i in range(0, len(nums)-1):\n",
    "      \n",
    "        # nicer looking alternative in commented code\n",
    "        #if nums[i] == 3 and nums[i+1] == 3:\n",
    "    \n",
    "        if nums[i:i+2] == [3,3]:\n",
    "            return True  \n",
    "    \n",
    "    return False\n",
    "\n",
    "has_33([1, 3, 3])"
   ]
  },
  {
   "cell_type": "markdown",
   "id": "57a5a528",
   "metadata": {},
   "source": [
    "BLACKJACK: Given three integers between 1 and 11, if their sum is less than or equal to 21, return their sum. If their sum exceeds 21 *and* there's an eleven, reduce the total sum by 10. Finally, if the sum (even after adjustment) exceeds 21, return 'BUST'\n",
    "    blackjack(5,6,7) --> 18\n",
    "    blackjack(9,9,9) --> 'BUST'\n",
    "    blackjack(9,9,11) --> 19"
   ]
  },
  {
   "cell_type": "code",
   "execution_count": null,
   "id": "7e50033f",
   "metadata": {},
   "outputs": [],
   "source": [
    "def blackjack(a,b,c):\n",
    "    \n",
    "    if sum((a,b,c)) <= 21:\n",
    "        return sum((a,b,c))\n",
    "    elif sum((a,b,c)) <=31 and 11 in (a,b,c):\n",
    "        return sum((a,b,c)) - 10\n",
    "    else:\n",
    "        return 'BUST'"
   ]
  },
  {
   "cell_type": "markdown",
   "id": "11254beb",
   "metadata": {},
   "source": [
    "COUNT PRIMES: Write a function that returns the *number* of prime numbers that exist up to and including a given number\n",
    "    count_primes(100) --> 25\n",
    "\n",
    "By convention, 0 and 1 are not prime."
   ]
  },
  {
   "cell_type": "code",
   "execution_count": 8,
   "id": "41a5bbf4",
   "metadata": {},
   "outputs": [
    {
     "name": "stdout",
     "output_type": "stream",
     "text": [
      "[2, 3, 5, 7, 11, 13, 17, 19, 23, 29, 31, 37, 41, 43, 47, 53, 59, 61, 67, 71, 73, 79, 83, 89, 97]\n"
     ]
    },
    {
     "data": {
      "text/plain": [
       "25"
      ]
     },
     "execution_count": 8,
     "metadata": {},
     "output_type": "execute_result"
    }
   ],
   "source": [
    "def count_primes(num):\n",
    "    primes = [2]\n",
    "    x = 3\n",
    "    if num < 2:  # for the case of num = 0 or 1\n",
    "        return 0\n",
    "    while x <= num:\n",
    "        for y in range(3,x,2):  # test all odd factors up to x-1\n",
    "            if x%y == 0:\n",
    "                x += 2\n",
    "                break\n",
    "        else:\n",
    "            primes.append(x)\n",
    "            x += 2\n",
    "    print(primes)\n",
    "    return len(primes)\n",
    "                \n",
    "count_primes(100)    \n"
   ]
  },
  {
   "cell_type": "markdown",
   "id": "01e0372b",
   "metadata": {},
   "source": [
    "SPY GAME: Write a function that takes in a list of integers and returns True if it contains 007 in order\n",
    "\n",
    "     spy_game([1,2,4,0,0,7,5]) --> True\n",
    "     spy_game([1,0,2,4,0,5,7]) --> True\n",
    "     spy_game([1,7,2,0,4,5,0]) --> False"
   ]
  },
  {
   "cell_type": "code",
   "execution_count": 9,
   "id": "17a3c62e",
   "metadata": {},
   "outputs": [
    {
     "data": {
      "text/plain": [
       "True"
      ]
     },
     "execution_count": 9,
     "metadata": {},
     "output_type": "execute_result"
    }
   ],
   "source": [
    "def spy_game(nums):\n",
    "\n",
    "    code = [0,0,7,'x']\n",
    "    \n",
    "    for num in nums:\n",
    "        if num == code[0]:\n",
    "            code.pop(0)   # code.remove(num) also works\n",
    "       \n",
    "    return len(code) == 1\n",
    "\n",
    "\n",
    "spy_game([1,0,2,4,0,5,7])"
   ]
  },
  {
   "cell_type": "markdown",
   "id": "49782b86",
   "metadata": {},
   "source": [
    "UMMER OF '69: Return the sum of the numbers in the array, except ignore sections of numbers starting with a 6 and extending to the next 9 (every 6 will be followed by at least one 9). Return 0 for no numbers.\n",
    " \n",
    "    summer_69([1, 3, 5]) --> 9\n",
    "    summer_69([4, 5, 6, 7, 8, 9]) --> 9\n",
    "    summer_69([2, 1, 6, 9, 11]) --> 14"
   ]
  },
  {
   "cell_type": "code",
   "execution_count": 10,
   "id": "6464ccbe",
   "metadata": {},
   "outputs": [
    {
     "data": {
      "text/plain": [
       "9"
      ]
     },
     "execution_count": 10,
     "metadata": {},
     "output_type": "execute_result"
    }
   ],
   "source": [
    "def summer_69(arr):\n",
    "    total = 0\n",
    "    add = True\n",
    "    for num in arr:\n",
    "        while add:\n",
    "            if num != 6:\n",
    "                total += num\n",
    "                break\n",
    "            else:\n",
    "                add = False\n",
    "        while not add:\n",
    "            if num != 9:\n",
    "                break\n",
    "            else:\n",
    "                add = True\n",
    "                break\n",
    "    return total\n",
    "\n",
    "\n",
    "summer_69([1, 3, 5])"
   ]
  }
 ],
 "metadata": {
  "kernelspec": {
   "display_name": "Python 3 (ipykernel)",
   "language": "python",
   "name": "python3"
  },
  "language_info": {
   "codemirror_mode": {
    "name": "ipython",
    "version": 3
   },
   "file_extension": ".py",
   "mimetype": "text/x-python",
   "name": "python",
   "nbconvert_exporter": "python",
   "pygments_lexer": "ipython3",
   "version": "3.9.13"
  }
 },
 "nbformat": 4,
 "nbformat_minor": 5
}
